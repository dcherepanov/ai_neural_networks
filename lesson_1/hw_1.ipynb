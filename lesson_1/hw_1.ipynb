{
 "cells": [
  {
   "cell_type": "markdown",
   "metadata": {},
   "source": [
    "Попробуйте видоизменить параметры разобранной на уроке нейронной сети таким образом, чтобы улучшить её точность. Проведите анализ:\n",
    "- Что приводит к ухудшению точности нейронной сети?\n",
    "- Что приводит к увеличению её точности?"
   ]
  },
  {
   "cell_type": "code",
   "execution_count": 36,
   "metadata": {},
   "outputs": [],
   "source": [
    "import numpy as np\n",
    "import pandas as pd\n",
    "import seaborn as sns\n",
    "import matplotlib.pyplot as plt\n",
    "import warnings\n",
    "warnings.simplefilter(action='ignore', category=FutureWarning)\n",
    "\n",
    "from sklearn.model_selection import train_test_split\n",
    "from tqdm import tqdm\n",
    "from mpl_toolkits.axes_grid1.axes_divider import make_axes_locatable"
   ]
  },
  {
   "cell_type": "code",
   "execution_count": 15,
   "metadata": {},
   "outputs": [],
   "source": [
    "def to_one_hot(Y):\n",
    "    n_col = np.amax(Y) + 1\n",
    "    binarized = np.zeros((len(Y), n_col))\n",
    "    for i in range(len(Y)):\n",
    "        binarized[i, Y[i]] = 1.\n",
    "    return binarized\n",
    "\n",
    "# # преобразование массива в необходимый вид\n",
    "# def from_one_hot(Y):\n",
    "#     arr = np.zeros((len(Y), 1))\n",
    "\n",
    "#     for i in range(len(Y)):\n",
    "#         l = layer2[i]\n",
    "#         for j in range(len(l)):\n",
    "#             if(l[j] == 1):\n",
    "#                 arr[i] = j+1\n",
    "#     return arr\n",
    "\n",
    "# сигмоида и ее производная\n",
    "def sigmoid(x):\n",
    "    return 1/(1+np.exp(-x))\n",
    "\n",
    "def sigmoid_deriv(x):\n",
    "    return sigmoid(x)*(1 - sigmoid(x))\n",
    "\n",
    "# нормализация массива\n",
    "def normalize(X, axis=-1, order=2):\n",
    "    l2 = np.atleast_1d(np.linalg.norm(X, order, axis))\n",
    "    l2[l2 == 0] = 1\n",
    "    return X / np.expand_dims(l2, axis)"
   ]
  },
  {
   "cell_type": "code",
   "execution_count": 16,
   "metadata": {},
   "outputs": [
    {
     "name": "stdout",
     "output_type": "stream",
     "text": [
      "   Id  SepalLengthCm  SepalWidthCm  PetalLengthCm  PetalWidthCm      Species\n",
      "0   1            5.1           3.5            1.4           0.2  Iris-setosa\n",
      "1   2            4.9           3.0            1.4           0.2  Iris-setosa\n",
      "2   3            4.7           3.2            1.3           0.2  Iris-setosa\n",
      "3   4            4.6           3.1            1.5           0.2  Iris-setosa\n",
      "4   5            5.0           3.6            1.4           0.2  Iris-setosa\n"
     ]
    }
   ],
   "source": [
    "### Шаг 2. Подготовка тренировочных данных\n",
    "# получения данных из csv файла. укажите здесь путь к файлу Iris.csv\n",
    "iris_data = pd.read_csv('Iris.csv')\n",
    "print(iris_data.head()) # расскоментируйте, чтобы посмотреть структуру данных\n",
    "\n",
    "# репрезентация данных в виде графиков\n",
    "# g = sns.pairplot(iris_data.drop(\"Id\", axis=1), hue=\"Species\")\n",
    "# plt.show() # расскоментируйте, чтобы посмотреть\n",
    "\n",
    "# замена текстовых значений на цифровые\n",
    "iris_data['Species'].replace(['Iris-setosa', 'Iris-virginica', 'Iris-versicolor'], [0, 1, 2], inplace=True)\n",
    "\n",
    "# формирование входных данных\n",
    "columns = ['SepalLengthCm', 'SepalWidthCm', 'PetalLengthCm', 'PetalWidthCm']\n",
    "x = pd.DataFrame(iris_data, columns=columns)\n",
    "x = normalize(x.values)\n",
    "\n",
    "# формирование выходных данных(результатов)\n",
    "columns = ['Species']\n",
    "y = pd.DataFrame(iris_data, columns=columns)\n",
    "y = y.values\n",
    "y = y.flatten()\n",
    "y = to_one_hot(y)\n",
    "\n",
    "# Разделение данных на тренировочные и тестовые\n",
    "X_train, X_test, y_train, y_test = train_test_split(x, y, test_size=0.33)"
   ]
  },
  {
   "cell_type": "code",
   "execution_count": 22,
   "metadata": {},
   "outputs": [],
   "source": [
    "def calc_neural_network_accuracy(X_train, y_train, n_iterations=5000000, learning_rate=0.001):\n",
    "    w0 = 2*np.random.random((4, 5)) - 1 # для входного слоя   - 4 входа, 3 выхода\n",
    "    w1 = 2*np.random.random((5, 3)) - 1 # для внутреннего слоя - 5 входов, 3 выхода\n",
    "\n",
    "    # процесс обучения\n",
    "    for i in range(n_iterations): #100,000\n",
    "\n",
    "        # прямое распространение(feed forward)\n",
    "        layer0 = X_train\n",
    "        layer1 = sigmoid(np.dot(layer0, w0))\n",
    "        layer2 = sigmoid(np.dot(layer1, w1))\n",
    "\n",
    "        # обратное распространение(back propagation) с использованием градиентного спуска\n",
    "        layer2_error = y_train - layer2\n",
    "        layer2_delta = layer2_error * sigmoid_deriv(layer2)\n",
    "\n",
    "        layer1_error = layer2_delta.dot(w1.T)\n",
    "        layer1_delta = layer1_error * sigmoid_deriv(layer1)\n",
    "\n",
    "        w1 += layer1.T.dot(layer2_delta) * learning_rate\n",
    "        w0 += layer0.T.dot(layer1_delta) * learning_rate\n",
    "        error = np.mean(np.abs(layer2_error))\n",
    "        accuracy = (1 - error) * 100\n",
    "    return accuracy"
   ]
  },
  {
   "cell_type": "code",
   "execution_count": 43,
   "metadata": {},
   "outputs": [
    {
     "name": "stderr",
     "output_type": "stream",
     "text": [
      "/tmp/ipykernel_38633/1619035527.py:21: RuntimeWarning: overflow encountered in exp\n",
      "  return 1/(1+np.exp(-x))\n"
     ]
    }
   ],
   "source": [
    "n_iterations_array = np.arange(5000, 100000, 10000, dtype=int)\n",
    "learning_rates_array = np.linspace(0.001, 0.1, 20)\n",
    "# n_iterations_array, learning_rates_array\n",
    "accuracies_matrix = [[calc_neural_network_accuracy(X_train, y_train, ni, lr) for ni in n_iterations_array] for lr in learning_rates_array]"
   ]
  },
  {
   "cell_type": "code",
   "execution_count": 44,
   "metadata": {},
   "outputs": [
    {
     "data": {
      "image/png": "[encoded data removed]",
      "text/plain": [
       "<Figure size 1152x648 with 2 Axes>"
      ]
     },
     "metadata": {
      "needs_background": "light"
     },
     "output_type": "display_data"
    }
   ],
   "source": [
    "fig, ax = plt.subplots(1, figsize=(16, 9))\n",
    "divider = make_axes_locatable(ax)\n",
    "ax_cb = divider.append_axes(\"right\", size=\"10%\", pad=0.1)\n",
    "p = ax.imshow(accuracies_matrix)\n",
    "cb_temp = p.axes.figure.colorbar(p, cax=ax_cb)\n",
    "x_indexes = range(0, len(n_iterations_array), int(len(n_iterations_array)/3))\n",
    "y_indexes = range(0, len(learning_rates_array), int(len(learning_rates_array)/3))\n",
    "ax.set_xticks(x_indexes)\n",
    "ax.set_yticks(y_indexes)\n",
    "ax.set_xticklabels([n_iterations_array[i] for i in x_indexes])\n",
    "ax.set_yticklabels([round(learning_rates_array[i], 3) for i in y_indexes])\n",
    "ax.set_xlabel('n_iter')\n",
    "ax.set_ylabel('learning_rate')\n",
    "ax_cb.set_ylabel('accuracy')\n",
    "fig.tight_layout(pad=0.1)\n",
    "plt.show()"
   ]
  },
  {
   "cell_type": "markdown",
   "metadata": {},
   "source": [
    "Точность растет при увеличении числа итераций при не слишком маленьким learning_rate."
   ]
  },
  {
   "cell_type": "code",
   "execution_count": null,
   "metadata": {},
   "outputs": [],
   "source": []
  }
 ],
 "metadata": {
  "kernelspec": {
   "display_name": "Python 3",
   "language": "python",
   "name": "python3"
  },
  "language_info": {
   "codemirror_mode": {
    "name": "ipython",
    "version": 3
   },
   "file_extension": ".py",
   "mimetype": "text/x-python",
   "name": "python",
   "nbconvert_exporter": "python",
   "pygments_lexer": "ipython3",
   "version": "3.10.12"
  },
  "orig_nbformat": 4
 },
 "nbformat": 4,
 "nbformat_minor": 2
}
