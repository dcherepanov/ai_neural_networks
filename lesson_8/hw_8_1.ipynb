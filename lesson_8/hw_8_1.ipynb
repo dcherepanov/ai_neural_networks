{
 "cells": [
  {
   "cell_type": "markdown",
   "metadata": {},
   "source": [
    "Обучите нейронную сеть любой архитектуры, которой не было на курсе, либо нейронную сеть разобранной архитектуры, но на том датасете, которого не было на уроках. Сделайте анализ того, что вам помогло в улучшения работы нейронной сети."
   ]
  },
  {
   "cell_type": "markdown",
   "metadata": {},
   "source": [
    "Задача: https://www.kaggle.com/competitions/icecube-neutrinos-in-deep-ice/overview\n",
    "\n",
    "Цель - предсказать направление нейтрино на основе данных детектора IceCube."
   ]
  },
  {
   "cell_type": "markdown",
   "metadata": {},
   "source": [
    "Решение: нейронная сеть с архитектурой CNN (Convolutional Neural Network - сверточная нейронная сеть, данная архитектура была рассмотрена на уроках)"
   ]
  },
  {
   "cell_type": "code",
   "execution_count": 1,
   "metadata": {},
   "outputs": [],
   "source": [
    "import os\n",
    "import warnings\n",
    "import math\n",
    "import pandas as pd\n",
    "import matplotlib.pyplot as plt\n",
    "import numpy as np\n",
    "import warnings\n",
    "warnings.filterwarnings(\"ignore\")\n",
    "import gc\n",
    "os.environ['TF_CPP_MIN_LOG_LEVEL'] = '3'\n",
    "warnings.filterwarnings(\"ignore\", category=UserWarning, module='tensorflow')\n",
    "import tensorflow as tf\n",
    "from tqdm import tqdm\n",
    "\n",
    "def angular_dist_score(az_true, zen_true, az_pred, zen_pred):\n",
    "    if not (np.all(np.isfinite(az_true)) and\n",
    "            np.all(np.isfinite(zen_true)) and\n",
    "            np.all(np.isfinite(az_pred)) and\n",
    "            np.all(np.isfinite(zen_pred))):\n",
    "        raise ValueError(\"All arguments must be finite\")\n",
    "    sa1 = np.sin(az_true)\n",
    "    ca1 = np.cos(az_true)\n",
    "    sz1 = np.sin(zen_true)\n",
    "    cz1 = np.cos(zen_true)\n",
    "    \n",
    "    sa2 = np.sin(az_pred)\n",
    "    ca2 = np.cos(az_pred)\n",
    "    sz2 = np.sin(zen_pred)\n",
    "    cz2 = np.cos(zen_pred)\n",
    "    scalar_prod = sz1*sz2*(ca1*ca2 + sa1*sa2) + (cz1*cz2)\n",
    "    scalar_prod =  np.clip(scalar_prod, -1, 1)\n",
    "    return np.average(np.abs(np.arccos(scalar_prod)))\n",
    "\n",
    "def convert_to_cartesian(azimuth, zenith):\n",
    "    x = np.sin(zenith) * np.cos(azimuth)\n",
    "    y = np.sin(zenith) * np.sin(azimuth)\n",
    "    z = np.cos(zenith)\n",
    "    return x, y, z\n",
    "\n",
    "def convert_to_polar(x, y, z):\n",
    "    r = math.sqrt(x * x + y * y + z * z)\n",
    "    c = -1 if y < 0 else 1\n",
    "    azimuth = math.acos(x / math.sqrt(x * x + y * y)) * c\n",
    "    zenith = math.acos(z / r)\n",
    "    return azimuth, zenith\n",
    "\n",
    "def adjust_polar(azimuth, zenith):\n",
    "    if azimuth < 0:\n",
    "        azimuth += math.pi * 2\n",
    "    elif zenith < 0:\n",
    "        zenith += math.pi\n",
    "    return azimuth, zenith"
   ]
  },
  {
   "cell_type": "code",
   "execution_count": 2,
   "metadata": {},
   "outputs": [],
   "source": [
    "sensors_df = pd.read_csv('/media/dmitriy/Disk/Downloads/icecube-neutrinos-in-deep-ice/sensor_geometry.csv')\n",
    "x_min, x_max, y_min, y_max, z_min, z_max = sensors_df.x.min(), sensors_df.x.max(), sensors_df.y.min(), sensors_df.y.max(), sensors_df.z.min(), sensors_df.z.max()\n",
    "sensors_df['x'] = (sensors_df['x'] - x_min) / (x_max - x_min)\n",
    "sensors_df['y'] = (sensors_df['y'] - y_min) / (y_max - y_min)\n",
    "sensors_df['z'] = (sensors_df['z'] - z_min) / (z_max - z_min)\n",
    "meta_df = pd.read_parquet('/media/dmitriy/Disk/Downloads/icecube-neutrinos-in-deep-ice/train_meta.parquet')\n",
    "meta_df[['batch_id', 'event_id', 'first_pulse_index', 'last_pulse_index']] = meta_df[['batch_id', 'event_id', 'first_pulse_index', 'last_pulse_index']].astype(int)\n",
    "meta_df[['azimuth', 'zenith']] = meta_df[['azimuth', 'zenith']].astype(np.float32)\n",
    "\n",
    "df = pd.read_parquet('/media/dmitriy/Disk/Downloads/icecube-neutrinos-in-deep-ice/train/batch_1.parquet')\n",
    "df['auxiliary'] = df['auxiliary'].astype(int)"
   ]
  },
  {
   "cell_type": "code",
   "execution_count": 3,
   "metadata": {},
   "outputs": [
    {
     "name": "stderr",
     "output_type": "stream",
     "text": [
      "100%|██████████| 5000/5000 [00:17<00:00, 293.61it/s]\n"
     ]
    },
    {
     "data": {
      "text/plain": [
       "0"
      ]
     },
     "execution_count": 3,
     "metadata": {},
     "output_type": "execute_result"
    }
   ],
   "source": [
    "sample_size = 5000\n",
    "\n",
    "meta_batch_df = meta_df[meta_df.batch_id == 1]\n",
    "meta_batch_df[['target_x', 'target_y', 'target_z']] = meta_batch_df[['azimuth', 'zenith']].apply(lambda x: convert_to_cartesian(x[0], x[1]), axis=1, result_type='expand')\n",
    "\n",
    "matrix_main = np.zeros((sample_size, 5160, 6), dtype=np.float32)\n",
    "# matrix_main = np.zeros((sample_size, 4600, 6), dtype=np.float32)\n",
    "target = np.zeros((sample_size, 3))\n",
    "\n",
    "for indx in tqdm(range(0, sample_size, 1)):\n",
    "    _, event_id, first_pulse_index, last_pulse_index, azimuth, zenith, target_x, target_y, target_z = meta_batch_df.iloc[indx].values\n",
    "    df_study = df.iloc[int(first_pulse_index):int(last_pulse_index)].merge(sensors_df, on='sensor_id')\n",
    "    minimum_time = df_study['time'].min()\n",
    "    period = df_study['time'].max() - minimum_time\n",
    "    df_study['time'] = (df_study['time'] - minimum_time) / (period)\n",
    "    df_study.set_index('sensor_id', inplace=True)\n",
    "    matrix = np.zeros((5160, 6))\n",
    "    # matrix = np.zeros((4600, 6))\n",
    "    matrix[df_study.index.values, :] = df_study.values\n",
    "\n",
    "    matrix_main[indx, :, :] = matrix\n",
    "    target[indx, :] = target_x, target_y, target_z\n",
    "\n",
    "del df, meta_df, sensors_df, meta_batch_df, df_study\n",
    "gc.collect()"
   ]
  },
  {
   "cell_type": "code",
   "execution_count": 4,
   "metadata": {},
   "outputs": [
    {
     "data": {
      "text/plain": [
       "((4600, 5160, 6),\n",
       " (4600, 3),\n",
       " (250, 5160, 6),\n",
       " (250, 3),\n",
       " (150, 5160, 6),\n",
       " (150, 3))"
      ]
     },
     "execution_count": 4,
     "metadata": {},
     "output_type": "execute_result"
    }
   ],
   "source": [
    "train_p, validation_p = 0.92, 0.05\n",
    "\n",
    "matrix_train = matrix_main[:int(sample_size * train_p), :, :]\n",
    "target_train = target[:int(sample_size * train_p), :]\n",
    "\n",
    "matrix_validation = matrix_main[int(sample_size * train_p):int(sample_size * (train_p + validation_p)), :, :]\n",
    "target_validation = target[int(sample_size * train_p):int(sample_size * (train_p + validation_p)), :]\n",
    "\n",
    "matrix_test = matrix_main[int(sample_size * (train_p + validation_p)):, :, :]\n",
    "target_test = target[int(sample_size * (train_p + validation_p)):, :]\n",
    "\n",
    "matrix_train.shape, target_train.shape, matrix_validation.shape, target_validation.shape, matrix_test.shape, target_test.shape"
   ]
  },
  {
   "cell_type": "code",
   "execution_count": 5,
   "metadata": {},
   "outputs": [],
   "source": [
    "tf.keras.backend.clear_session()"
   ]
  },
  {
   "cell_type": "code",
   "execution_count": 6,
   "metadata": {},
   "outputs": [],
   "source": [
    "gpu_device = tf.config.list_physical_devices('GPU')[0]\n",
    "tf.config.experimental.set_memory_growth(gpu_device, True)"
   ]
  },
  {
   "cell_type": "code",
   "execution_count": 7,
   "metadata": {},
   "outputs": [],
   "source": [
    "with tf.device('/GPU:0'):\n",
    "    model = tf.keras.models.Sequential([\n",
    "        tf.keras.layers.Conv2D(128, (516, 6), activation='relu', input_shape=(5160, 6, 1)),\n",
    "        tf.keras.layers.MaxPooling2D((2, 1)),\n",
    "        tf.keras.layers.Flatten(),\n",
    "        tf.keras.layers.Dense(128, activation='relu'),\n",
    "        tf.keras.layers.Dense(64, activation='relu'),\n",
    "        tf.keras.layers.Dense(3, activation='linear')\n",
    "    ])\n",
    "\n",
    "\n",
    "model.compile(optimizer='adam', loss='mse', metrics=['mae'])\n",
    "early_stopping = tf.keras.callbacks.EarlyStopping(monitor='val_loss', patience=3, restore_best_weights=True)"
   ]
  },
  {
   "cell_type": "code",
   "execution_count": 8,
   "metadata": {},
   "outputs": [
    {
     "name": "stdout",
     "output_type": "stream",
     "text": [
      "Epoch 1/10\n",
      "144/144 [==============================] - 33s 179ms/step - loss: 0.3524 - mae: 0.5067 - val_loss: 0.3329 - val_mae: 0.4961\n",
      "Epoch 2/10\n",
      "144/144 [==============================] - 23s 161ms/step - loss: 0.3329 - mae: 0.4989 - val_loss: 0.3330 - val_mae: 0.4966\n",
      "Epoch 3/10\n",
      "144/144 [==============================] - 23s 162ms/step - loss: 0.3330 - mae: 0.4989 - val_loss: 0.3329 - val_mae: 0.4962\n",
      "Epoch 4/10\n",
      "144/144 [==============================] - 24s 164ms/step - loss: 0.3329 - mae: 0.4989 - val_loss: 0.3329 - val_mae: 0.4961\n"
     ]
    },
    {
     "data": {
      "text/plain": [
       "<keras.src.callbacks.History at 0x7fe10670f1f0>"
      ]
     },
     "execution_count": 8,
     "metadata": {},
     "output_type": "execute_result"
    }
   ],
   "source": [
    "model.fit(matrix_train, target_train, epochs=10, batch_size=32, validation_data=(matrix_validation, target_validation), callbacks=[early_stopping])"
   ]
  },
  {
   "cell_type": "code",
   "execution_count": 9,
   "metadata": {},
   "outputs": [
    {
     "data": {
      "image/png": "[encoded data removed]",
      "text/plain": [
       "<Figure size 432x288 with 1 Axes>"
      ]
     },
     "metadata": {
      "needs_background": "light"
     },
     "output_type": "display_data"
    }
   ],
   "source": [
    "plt.plot(model.history.history['loss'], label='train')\n",
    "plt.plot(model.history.history['val_loss'], label='validation')\n",
    "plt.legend()\n",
    "plt.show()"
   ]
  },
  {
   "cell_type": "code",
   "execution_count": 10,
   "metadata": {},
   "outputs": [
    {
     "name": "stdout",
     "output_type": "stream",
     "text": [
      "5/5 [==============================] - 1s 162ms/step\n"
     ]
    }
   ],
   "source": [
    "pred = model.predict(matrix_test)\n",
    "pred_polar = np.array([convert_to_polar(x, y, z) for x, y, z in pred])\n",
    "target_test_polar = np.array([convert_to_polar(x, y, z) for x, y, z in target_test])\n",
    "\n",
    "az_true, zen_true = target_test_polar[:, 0], target_test_polar[:, 1]\n",
    "az_pred, zen_pred = pred_polar[:, 0], pred_polar[:, 1]"
   ]
  },
  {
   "cell_type": "code",
   "execution_count": 11,
   "metadata": {},
   "outputs": [
    {
     "data": {
      "text/plain": [
       "1.5098055681811036"
      ]
     },
     "execution_count": 11,
     "metadata": {},
     "output_type": "execute_result"
    }
   ],
   "source": [
    "angular_dist_score(az_true, zen_true, az_pred, zen_pred)"
   ]
  },
  {
   "cell_type": "markdown",
   "metadata": {},
   "source": [
    "В улучшении работы нейронной сети помогло добавление скрытого слоя, а также увеличение параметра sample_size при формировании обучающего датасета."
   ]
  }
 ],
 "metadata": {
  "kernelspec": {
   "display_name": "Python 3",
   "language": "python",
   "name": "python3"
  },
  "language_info": {
   "codemirror_mode": {
    "name": "ipython",
    "version": 3
   },
   "file_extension": ".py",
   "mimetype": "text/x-python",
   "name": "python",
   "nbconvert_exporter": "python",
   "pygments_lexer": "ipython3",
   "version": "3.10.12"
  }
 },
 "nbformat": 4,
 "nbformat_minor": 2
}
